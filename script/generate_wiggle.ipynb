{
 "cells": [
  {
   "cell_type": "code",
   "execution_count": 1,
   "metadata": {},
   "outputs": [
    {
     "name": "stdout",
     "output_type": "stream",
     "text": [
      "Welcome to JupyROOT 6.24/06\n"
     ]
    }
   ],
   "source": [
    "import ROOT as r\n",
    "import numpy as np"
   ]
  },
  {
   "cell_type": "code",
   "execution_count": 2,
   "metadata": {},
   "outputs": [],
   "source": [
    "def MakeWiggle(hist2d_t_e, hist_name, e_start, e_end):\n",
    "    start_bin = hist2d_t_e.GetYaxis().FindBin(e_start)\n",
    "    end_bin = hist2d_t_e.GetYaxis().FindBin(e_end)\n",
    "    wiggle_T = hist2d_t_e.ProjectionX(hist_name, start_bin, end_bin)\n",
    "    return wiggle_T\n",
    "\n",
    "def Normalize(hist, start_bin):\n",
    "    start_time = hist.GetBinCenter(start_bin)\n",
    "    integral = hist.Integral(start_bin, 4356) * np.exp(start_time/64)\n",
    "    normalized_lm = hist.Clone('normalized_from_{:.2f}us'.format(start_time))\n",
    "    normalized_lm.SetTitle('Normalized lost muon from {:.2f}us'.format(start_time))\n",
    "    normalized_lm.Scale(1/integral)\n",
    "    return normalized_lm\n",
    "\n",
    "def Integral(hist, start_bin):\n",
    "    start_time = hist.GetBinCenter(start_bin)\n",
    "    integral_lm = hist.Clone('integrate_from_{:.2f}us'.format(start_time))\n",
    "    integral_lm.Reset()\n",
    "    integral_lm.SetTitle('Integral lost muon from {:.2f}us'.format(start_time))\n",
    "    sum_lm = 0\n",
    "    for i in range(start_bin, hist.GetNbinsX()+1):\n",
    "        t_prime = hist.GetBinCenter(i)\n",
    "        sum_lm += hist.GetBinContent(i) * np.exp(t_prime/64.43)\n",
    "        integral_lm.SetBinContent(i, sum_lm)\n",
    "\n",
    "    return integral_lm"
   ]
  },
  {
   "cell_type": "code",
   "execution_count": 5,
   "metadata": {},
   "outputs": [
    {
     "data": {
      "image/png": "[encoded data removed]",
      "text/plain": [
       "<IPython.core.display.Image object>"
      ]
     },
     "metadata": {},
     "output_type": "display_data"
    }
   ],
   "source": [
    "c = r.TCanvas()\n",
    "f = r.TFile.Open(\"../run/toymc_run0.root\")\n",
    "hist2d_t_e = f.Get(\"hist2d_t_e\")\n",
    "hist2d_t_e_inv_ratio = f.Get(\"hist2d_t_e_inv_ratio\")\n",
    "hist_lm = f.Get(\"hist1d_time_lost\")\n",
    "hist_lm_inv_ratio = f.Get(\"hist1d_time_lost_inv_ratio\")\n",
    "\n",
    "wiggle_T = MakeWiggle(hist2d_t_e, \"wiggle_T\", 1700, 3100)\n",
    "wiggle_T_inv_ratio = MakeWiggle(hist2d_t_e_inv_ratio, \"wiggle_T_inv_ratio\", 1700, 3100)\n",
    "\n",
    "wiggles_energy_bin = []\n",
    "for energy in range(1000, 3100, 100):\n",
    "    wiggles_energy_bin.append(MakeWiggle(hist2d_t_e, f\"wiggle_e{energy}\", energy, energy+100))\n",
    "\n",
    "wiggles_energy_bin_inv_ratio = []\n",
    "for energy in range(1000, 3100, 100):\n",
    "    wiggles_energy_bin_inv_ratio.append(MakeWiggle(hist2d_t_e_inv_ratio, f\"wiggle_e{energy}_inv_ratio\", energy, energy+100))\n",
    "\n",
    "normalized_lm = Normalize(hist_lm, start_bin=201)\n",
    "integral_lm = Integral(normalized_lm, start_bin=201)\n",
    "\n",
    "normalized_lm_inv_ratio = Normalize(hist_lm_inv_ratio, start_bin=201)\n",
    "integral_lm_inv_ratio = Integral(normalized_lm_inv_ratio, start_bin=201)\n",
    "integral_lm.Draw()\n",
    "c.Draw()\n",
    "\n",
    "out = r.TFile(\"../run/toymc_run0_ana.root\", \"recreate\")\n",
    "\n",
    "out.mkdir(\"lost_muon\")\n",
    "out.cd(\"lost_muon\")\n",
    "hist_lm.Write(\"hist_lm\")\n",
    "hist_lm_inv_ratio.Write(\"hist_lm_inv_ratio\")\n",
    "integral_lm.Write(\"hist_lm_integral\")\n",
    "integral_lm_inv_ratio.Write(\"hist_lm_integral_inv_ratio\")\n",
    "\n",
    "out.cd(\"../\")\n",
    "out.mkdir(\"wiggle\")\n",
    "out.cd(\"wiggle\")\n",
    "wiggle_T.Write(\"wiggle_T\")\n",
    "wiggle_T_inv_ratio.Write(\"wiggle_T_inv_ratio\")\n",
    "\n",
    "out.cd(\"../\")\n",
    "out.mkdir(\"energy_bin\")\n",
    "out.cd(\"energy_bin\")\n",
    "for wiggle_energy_bin in wiggles_energy_bin:\n",
    "    wiggle_energy_bin.Write()\n",
    "for wiggle_energy_bin_inv_ratio in wiggles_energy_bin_inv_ratio:\n",
    "    wiggle_energy_bin_inv_ratio.Write()\n",
    "\n",
    "out.Close()"
   ]
  }
 ],
 "metadata": {
  "kernelspec": {
   "display_name": "Python 3",
   "language": "python",
   "name": "python3"
  },
  "language_info": {
   "codemirror_mode": {
    "name": "ipython",
    "version": 3
   },
   "file_extension": ".py",
   "mimetype": "text/x-python",
   "name": "python",
   "nbconvert_exporter": "python",
   "pygments_lexer": "ipython3",
   "version": "3.9.6"
  }
 },
 "nbformat": 4,
 "nbformat_minor": 2
}
